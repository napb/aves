{
 "cells": [
  {
   "cell_type": "markdown",
   "metadata": {},
   "source": [
    "# Implementacion TreeMap (BETA)\n",
    "\n",
    "- **Nicolas Pastor Bueno**. <npastorb@udd.cl>, \n",
    "- **Maria Alejandra Hermosilla Urriola**. <@udd.cl>, \n",
    "- **Cesar Patricio Diaz Ramos**. <@udd.cl>. \n",
    "\n",
    "Creado: **16 de octubre de 2021**.\n",
    "\n",
    "El objetivo de este notebook es poder demotrar implementaciones en TreeMap a traves de 'AVES' y con dependenia de SQUARIFY.PY"
   ]
  },
  {
   "cell_type": "code",
   "execution_count": null,
   "metadata": {},
   "outputs": [],
   "source": [
    "!pip uninstall matplotlib -y\n",
    "!pip install -q condacolab\n",
    "import condacolab\n",
    "condacolab.install_mambaforge()\n",
    "\n",
    "!git clone https://github.com/napb/aves.git aves_git\n",
    "!mamba env update --name base --file aves_git/environment-colab.yml"
   ]
  },
  {
   "cell_type": "code",
   "execution_count": 5,
   "metadata": {},
   "outputs": [
    {
     "data": {
      "image/png": "[encoded data removed]",
      "text/plain": [
       "<Figure size 1152x1152 with 1 Axes>"
      ]
     },
     "metadata": {
      "needs_background": "light"
     },
     "output_type": "display_data"
    }
   ],
   "source": [
    "'''\n",
    "Con la implementacion del metodo drawTreeMapSumAggr(dataFrame, columna_de_agrupacion, columna_de_agregacion, impresion_de_margenes, leyenda) dentro de \n",
    "aves, podemos renderizar un treemap\n",
    "\n",
    "    * Se define seaborn solo para cargar el dataset titanic, a modo de prueba para un treemap\n",
    "'''\n",
    "\n",
    "import seaborn as sns\n",
    "titanic = sns.load_dataset('titanic')\n",
    "from aves.visualization.treemap import drawTreeMapSumAggr\n",
    " \n",
    "drawTreeMapSumAggr(\n",
    "    titanic,\n",
    "    'class',\n",
    "    'survived',\n",
    "    False,\n",
    "    False,\n",
    "    \"legend_class_aggr\",\n",
    "    16,\n",
    "    16,\n",
    "    False, \n",
    "    None)"
   ]
  },
  {
   "cell_type": "code",
   "execution_count": 26,
   "metadata": {},
   "outputs": [],
   "source": [
    "import sys\n",
    "from pathlib import Path\n",
    "from aves.data import eod\n",
    "\n",
    "AVES_ROOT = Path(\"..\") if not \"google.colab\" in sys.modules else Path(\"aves_git\")\n",
    "\n",
    "EOD_PATH = AVES_ROOT / \"data\" / \"external\" / \"EOD_STGO\"\n",
    "EOD_PATH\n",
    "\n",
    "viajes = eod.read_trips(EOD_PATH)\n",
    "personas = eod.read_people(EOD_PATH)\n",
    "viajes_persona = viajes.merge(personas)\n",
    "#viajes_persona\n",
    "\n"
   ]
  },
  {
   "cell_type": "code",
   "execution_count": 27,
   "metadata": {},
   "outputs": [
    {
     "data": {
      "text/html": [
       "<div>\n",
       "<style scoped>\n",
       "    .dataframe tbody tr th:only-of-type {\n",
       "        vertical-align: middle;\n",
       "    }\n",
       "\n",
       "    .dataframe tbody tr th {\n",
       "        vertical-align: top;\n",
       "    }\n",
       "\n",
       "    .dataframe thead th {\n",
       "        text-align: right;\n",
       "    }\n",
       "</style>\n",
       "<table border=\"1\" class=\"dataframe\">\n",
       "  <thead>\n",
       "    <tr style=\"text-align: right;\">\n",
       "      <th></th>\n",
       "      <th>Hogar</th>\n",
       "      <th>Persona</th>\n",
       "      <th>Viaje</th>\n",
       "      <th>Etapas</th>\n",
       "      <th>ComunaOrigen</th>\n",
       "      <th>ComunaDestino</th>\n",
       "      <th>SectorOrigen</th>\n",
       "      <th>SectorDestino</th>\n",
       "      <th>ZonaOrigen</th>\n",
       "      <th>ZonaDestino</th>\n",
       "      <th>...</th>\n",
       "      <th>TramoIngreso</th>\n",
       "      <th>IngresoFinal</th>\n",
       "      <th>TramoIngresoFinal</th>\n",
       "      <th>IngresoImputado</th>\n",
       "      <th>Factor_LaboralNormal</th>\n",
       "      <th>Factor_SabadoNormal</th>\n",
       "      <th>Factor_DomingoNormal</th>\n",
       "      <th>Factor_LaboralEstival</th>\n",
       "      <th>Factor_FindesemanaEstival</th>\n",
       "      <th>FactorPersona</th>\n",
       "    </tr>\n",
       "  </thead>\n",
       "  <tbody>\n",
       "    <tr>\n",
       "      <th>0</th>\n",
       "      <td>173431</td>\n",
       "      <td>17343102</td>\n",
       "      <td>1734310202</td>\n",
       "      <td>1</td>\n",
       "      <td>Maipú</td>\n",
       "      <td>Maipú</td>\n",
       "      <td>Poniente</td>\n",
       "      <td>Poniente</td>\n",
       "      <td>400</td>\n",
       "      <td>407</td>\n",
       "      <td>...</td>\n",
       "      <td>NaN</td>\n",
       "      <td>0</td>\n",
       "      <td>0</td>\n",
       "      <td>0</td>\n",
       "      <td>142.3375</td>\n",
       "      <td>NaN</td>\n",
       "      <td>NaN</td>\n",
       "      <td>NaN</td>\n",
       "      <td>NaN</td>\n",
       "      <td>53.39174</td>\n",
       "    </tr>\n",
       "    <tr>\n",
       "      <th>1</th>\n",
       "      <td>173431</td>\n",
       "      <td>17343102</td>\n",
       "      <td>1734310201</td>\n",
       "      <td>1</td>\n",
       "      <td>Maipú</td>\n",
       "      <td>Maipú</td>\n",
       "      <td>Poniente</td>\n",
       "      <td>Poniente</td>\n",
       "      <td>407</td>\n",
       "      <td>400</td>\n",
       "      <td>...</td>\n",
       "      <td>NaN</td>\n",
       "      <td>0</td>\n",
       "      <td>0</td>\n",
       "      <td>0</td>\n",
       "      <td>142.3375</td>\n",
       "      <td>NaN</td>\n",
       "      <td>NaN</td>\n",
       "      <td>NaN</td>\n",
       "      <td>NaN</td>\n",
       "      <td>53.39174</td>\n",
       "    </tr>\n",
       "    <tr>\n",
       "      <th>2</th>\n",
       "      <td>173441</td>\n",
       "      <td>17344101</td>\n",
       "      <td>1734410101</td>\n",
       "      <td>2</td>\n",
       "      <td>Maipú</td>\n",
       "      <td>Las Condes</td>\n",
       "      <td>Poniente</td>\n",
       "      <td>Oriente</td>\n",
       "      <td>407</td>\n",
       "      <td>307</td>\n",
       "      <td>...</td>\n",
       "      <td>Entre 200.001 y 400.000 pesos</td>\n",
       "      <td>350000</td>\n",
       "      <td>2</td>\n",
       "      <td>0</td>\n",
       "      <td>112.9581</td>\n",
       "      <td>NaN</td>\n",
       "      <td>NaN</td>\n",
       "      <td>NaN</td>\n",
       "      <td>NaN</td>\n",
       "      <td>46.32137</td>\n",
       "    </tr>\n",
       "    <tr>\n",
       "      <th>3</th>\n",
       "      <td>173441</td>\n",
       "      <td>17344101</td>\n",
       "      <td>1734410102</td>\n",
       "      <td>2</td>\n",
       "      <td>Las Condes</td>\n",
       "      <td>Maipú</td>\n",
       "      <td>Oriente</td>\n",
       "      <td>Poniente</td>\n",
       "      <td>307</td>\n",
       "      <td>407</td>\n",
       "      <td>...</td>\n",
       "      <td>Entre 200.001 y 400.000 pesos</td>\n",
       "      <td>350000</td>\n",
       "      <td>2</td>\n",
       "      <td>0</td>\n",
       "      <td>112.9581</td>\n",
       "      <td>NaN</td>\n",
       "      <td>NaN</td>\n",
       "      <td>NaN</td>\n",
       "      <td>NaN</td>\n",
       "      <td>46.32137</td>\n",
       "    </tr>\n",
       "    <tr>\n",
       "      <th>4</th>\n",
       "      <td>173441</td>\n",
       "      <td>17344103</td>\n",
       "      <td>1734410301</td>\n",
       "      <td>2</td>\n",
       "      <td>Maipú</td>\n",
       "      <td>Ñuñoa</td>\n",
       "      <td>Poniente</td>\n",
       "      <td>Oriente</td>\n",
       "      <td>407</td>\n",
       "      <td>437</td>\n",
       "      <td>...</td>\n",
       "      <td>No contesta</td>\n",
       "      <td>283883</td>\n",
       "      <td>2</td>\n",
       "      <td>1</td>\n",
       "      <td>103.5267</td>\n",
       "      <td>NaN</td>\n",
       "      <td>NaN</td>\n",
       "      <td>NaN</td>\n",
       "      <td>NaN</td>\n",
       "      <td>43.02566</td>\n",
       "    </tr>\n",
       "    <tr>\n",
       "      <th>...</th>\n",
       "      <td>...</td>\n",
       "      <td>...</td>\n",
       "      <td>...</td>\n",
       "      <td>...</td>\n",
       "      <td>...</td>\n",
       "      <td>...</td>\n",
       "      <td>...</td>\n",
       "      <td>...</td>\n",
       "      <td>...</td>\n",
       "      <td>...</td>\n",
       "      <td>...</td>\n",
       "      <td>...</td>\n",
       "      <td>...</td>\n",
       "      <td>...</td>\n",
       "      <td>...</td>\n",
       "      <td>...</td>\n",
       "      <td>...</td>\n",
       "      <td>...</td>\n",
       "      <td>...</td>\n",
       "      <td>...</td>\n",
       "      <td>...</td>\n",
       "    </tr>\n",
       "    <tr>\n",
       "      <th>100329</th>\n",
       "      <td>743813</td>\n",
       "      <td>74381301</td>\n",
       "      <td>7438130102</td>\n",
       "      <td>1</td>\n",
       "      <td>La Granja</td>\n",
       "      <td>La Granja</td>\n",
       "      <td>Sur</td>\n",
       "      <td>Sur</td>\n",
       "      <td>235</td>\n",
       "      <td>244</td>\n",
       "      <td>...</td>\n",
       "      <td>Menos de 200.000 pesos</td>\n",
       "      <td>140369</td>\n",
       "      <td>1</td>\n",
       "      <td>2</td>\n",
       "      <td>NaN</td>\n",
       "      <td>NaN</td>\n",
       "      <td>281.4610</td>\n",
       "      <td>NaN</td>\n",
       "      <td>NaN</td>\n",
       "      <td>15.34897</td>\n",
       "    </tr>\n",
       "    <tr>\n",
       "      <th>100330</th>\n",
       "      <td>743813</td>\n",
       "      <td>74381302</td>\n",
       "      <td>7438130201</td>\n",
       "      <td>1</td>\n",
       "      <td>La Granja</td>\n",
       "      <td>La Granja</td>\n",
       "      <td>Sur</td>\n",
       "      <td>Sur</td>\n",
       "      <td>244</td>\n",
       "      <td>235</td>\n",
       "      <td>...</td>\n",
       "      <td>Menos de 200.000 pesos</td>\n",
       "      <td>177636</td>\n",
       "      <td>1</td>\n",
       "      <td>2</td>\n",
       "      <td>NaN</td>\n",
       "      <td>NaN</td>\n",
       "      <td>288.1693</td>\n",
       "      <td>NaN</td>\n",
       "      <td>NaN</td>\n",
       "      <td>17.30931</td>\n",
       "    </tr>\n",
       "    <tr>\n",
       "      <th>100331</th>\n",
       "      <td>743813</td>\n",
       "      <td>74381302</td>\n",
       "      <td>7438130202</td>\n",
       "      <td>1</td>\n",
       "      <td>La Granja</td>\n",
       "      <td>La Granja</td>\n",
       "      <td>Sur</td>\n",
       "      <td>Sur</td>\n",
       "      <td>235</td>\n",
       "      <td>244</td>\n",
       "      <td>...</td>\n",
       "      <td>Menos de 200.000 pesos</td>\n",
       "      <td>177636</td>\n",
       "      <td>1</td>\n",
       "      <td>2</td>\n",
       "      <td>NaN</td>\n",
       "      <td>NaN</td>\n",
       "      <td>288.1693</td>\n",
       "      <td>NaN</td>\n",
       "      <td>NaN</td>\n",
       "      <td>17.30931</td>\n",
       "    </tr>\n",
       "    <tr>\n",
       "      <th>100332</th>\n",
       "      <td>743823</td>\n",
       "      <td>74382301</td>\n",
       "      <td>7438230101</td>\n",
       "      <td>1</td>\n",
       "      <td>La Granja</td>\n",
       "      <td>La Granja</td>\n",
       "      <td>Sur</td>\n",
       "      <td>Sur</td>\n",
       "      <td>235</td>\n",
       "      <td>235</td>\n",
       "      <td>...</td>\n",
       "      <td>Menos de 200.000 pesos</td>\n",
       "      <td>140007</td>\n",
       "      <td>1</td>\n",
       "      <td>2</td>\n",
       "      <td>NaN</td>\n",
       "      <td>NaN</td>\n",
       "      <td>281.4610</td>\n",
       "      <td>NaN</td>\n",
       "      <td>NaN</td>\n",
       "      <td>303.14069</td>\n",
       "    </tr>\n",
       "    <tr>\n",
       "      <th>100333</th>\n",
       "      <td>743823</td>\n",
       "      <td>74382301</td>\n",
       "      <td>7438230102</td>\n",
       "      <td>1</td>\n",
       "      <td>La Granja</td>\n",
       "      <td>La Granja</td>\n",
       "      <td>Sur</td>\n",
       "      <td>Sur</td>\n",
       "      <td>235</td>\n",
       "      <td>235</td>\n",
       "      <td>...</td>\n",
       "      <td>Menos de 200.000 pesos</td>\n",
       "      <td>140007</td>\n",
       "      <td>1</td>\n",
       "      <td>2</td>\n",
       "      <td>NaN</td>\n",
       "      <td>NaN</td>\n",
       "      <td>281.4610</td>\n",
       "      <td>NaN</td>\n",
       "      <td>NaN</td>\n",
       "      <td>303.14069</td>\n",
       "    </tr>\n",
       "  </tbody>\n",
       "</table>\n",
       "<p>100334 rows × 76 columns</p>\n",
       "</div>"
      ],
      "text/plain": [
       "         Hogar   Persona       Viaje  Etapas ComunaOrigen ComunaDestino  \\\n",
       "0       173431  17343102  1734310202       1        Maipú         Maipú   \n",
       "1       173431  17343102  1734310201       1        Maipú         Maipú   \n",
       "2       173441  17344101  1734410101       2        Maipú    Las Condes   \n",
       "3       173441  17344101  1734410102       2   Las Condes         Maipú   \n",
       "4       173441  17344103  1734410301       2        Maipú         Ñuñoa   \n",
       "...        ...       ...         ...     ...          ...           ...   \n",
       "100329  743813  74381301  7438130102       1    La Granja     La Granja   \n",
       "100330  743813  74381302  7438130201       1    La Granja     La Granja   \n",
       "100331  743813  74381302  7438130202       1    La Granja     La Granja   \n",
       "100332  743823  74382301  7438230101       1    La Granja     La Granja   \n",
       "100333  743823  74382301  7438230102       1    La Granja     La Granja   \n",
       "\n",
       "       SectorOrigen SectorDestino  ZonaOrigen  ZonaDestino  ...  \\\n",
       "0          Poniente      Poniente         400          407  ...   \n",
       "1          Poniente      Poniente         407          400  ...   \n",
       "2          Poniente       Oriente         407          307  ...   \n",
       "3           Oriente      Poniente         307          407  ...   \n",
       "4          Poniente       Oriente         407          437  ...   \n",
       "...             ...           ...         ...          ...  ...   \n",
       "100329          Sur           Sur         235          244  ...   \n",
       "100330          Sur           Sur         244          235  ...   \n",
       "100331          Sur           Sur         235          244  ...   \n",
       "100332          Sur           Sur         235          235  ...   \n",
       "100333          Sur           Sur         235          235  ...   \n",
       "\n",
       "                         TramoIngreso  IngresoFinal  TramoIngresoFinal  \\\n",
       "0                                 NaN             0                  0   \n",
       "1                                 NaN             0                  0   \n",
       "2       Entre 200.001 y 400.000 pesos        350000                  2   \n",
       "3       Entre 200.001 y 400.000 pesos        350000                  2   \n",
       "4                         No contesta        283883                  2   \n",
       "...                               ...           ...                ...   \n",
       "100329         Menos de 200.000 pesos        140369                  1   \n",
       "100330         Menos de 200.000 pesos        177636                  1   \n",
       "100331         Menos de 200.000 pesos        177636                  1   \n",
       "100332         Menos de 200.000 pesos        140007                  1   \n",
       "100333         Menos de 200.000 pesos        140007                  1   \n",
       "\n",
       "        IngresoImputado Factor_LaboralNormal  Factor_SabadoNormal  \\\n",
       "0                     0             142.3375                  NaN   \n",
       "1                     0             142.3375                  NaN   \n",
       "2                     0             112.9581                  NaN   \n",
       "3                     0             112.9581                  NaN   \n",
       "4                     1             103.5267                  NaN   \n",
       "...                 ...                  ...                  ...   \n",
       "100329                2                  NaN                  NaN   \n",
       "100330                2                  NaN                  NaN   \n",
       "100331                2                  NaN                  NaN   \n",
       "100332                2                  NaN                  NaN   \n",
       "100333                2                  NaN                  NaN   \n",
       "\n",
       "       Factor_DomingoNormal Factor_LaboralEstival Factor_FindesemanaEstival  \\\n",
       "0                       NaN                   NaN                       NaN   \n",
       "1                       NaN                   NaN                       NaN   \n",
       "2                       NaN                   NaN                       NaN   \n",
       "3                       NaN                   NaN                       NaN   \n",
       "4                       NaN                   NaN                       NaN   \n",
       "...                     ...                   ...                       ...   \n",
       "100329             281.4610                   NaN                       NaN   \n",
       "100330             288.1693                   NaN                       NaN   \n",
       "100331             288.1693                   NaN                       NaN   \n",
       "100332             281.4610                   NaN                       NaN   \n",
       "100333             281.4610                   NaN                       NaN   \n",
       "\n",
       "        FactorPersona  \n",
       "0            53.39174  \n",
       "1            53.39174  \n",
       "2            46.32137  \n",
       "3            46.32137  \n",
       "4            43.02566  \n",
       "...               ...  \n",
       "100329       15.34897  \n",
       "100330       17.30931  \n",
       "100331       17.30931  \n",
       "100332      303.14069  \n",
       "100333      303.14069  \n",
       "\n",
       "[100334 rows x 76 columns]"
      ]
     },
     "execution_count": 27,
     "metadata": {},
     "output_type": "execute_result"
    }
   ],
   "source": [
    "viajes_persona"
   ]
  },
  {
   "cell_type": "code",
   "execution_count": 4,
   "metadata": {},
   "outputs": [
    {
     "data": {
      "image/png": "[encoded data removed]",
      "text/plain": [
       "<Figure size 2304x2304 with 1 Axes>"
      ]
     },
     "metadata": {
      "needs_background": "light"
     },
     "output_type": "display_data"
    }
   ],
   "source": [
    "'''\n",
    "Con la implementacion del metodo drawTreeMapAvgAggr() dentro de aves, podemos renderizar un treemap. Como ejemplo se utilizara la EOD teniendo en cuenta los ingresos promedio por comuna de origen\n",
    "\n",
    "drawTreeMapAvgAggr(\n",
    "    dataFrame, \n",
    "    columna_de_agrupacion, \n",
    "    columna_de_agregacion, \n",
    "    impresion_de_margenes, \n",
    "    leyenda) \n",
    "    \n",
    "\n",
    "'''\n",
    "\n",
    "from aves.visualization.treemap import drawTreeMapAvgAggr\n",
    "\n",
    "drawTreeMapAvgAggr(\n",
    "    viajes_persona,\n",
    "    'ComunaOrigen',\n",
    "    'IngresoFinal',\n",
    "    False,\n",
    "    False,\n",
    "    \"legend_class_aggr\",\n",
    "    32,\n",
    "    32,\n",
    "    False,\n",
    "    {'title' : 'Ingresos promedio por comuna de origen', 'fontsize' : 23, 'fontweight': 'bold'})"
   ]
  },
  {
   "cell_type": "code",
   "execution_count": 32,
   "metadata": {},
   "outputs": [
    {
     "data": {
      "text/html": [
       "<div>\n",
       "<style scoped>\n",
       "    .dataframe tbody tr th:only-of-type {\n",
       "        vertical-align: middle;\n",
       "    }\n",
       "\n",
       "    .dataframe tbody tr th {\n",
       "        vertical-align: top;\n",
       "    }\n",
       "\n",
       "    .dataframe thead th {\n",
       "        text-align: right;\n",
       "    }\n",
       "</style>\n",
       "<table border=\"1\" class=\"dataframe\">\n",
       "  <thead>\n",
       "    <tr style=\"text-align: right;\">\n",
       "      <th></th>\n",
       "      <th>Hogar</th>\n",
       "      <th>Vehiculo</th>\n",
       "      <th>TipoVeh</th>\n",
       "      <th>MarcaVeh</th>\n",
       "      <th>ModeloVeh</th>\n",
       "      <th>AnoVeh</th>\n",
       "      <th>EdadVehiculo</th>\n",
       "      <th>CilindradaVeh</th>\n",
       "      <th>Combustible</th>\n",
       "      <th>SelloVerde</th>\n",
       "      <th>Propiedad</th>\n",
       "    </tr>\n",
       "  </thead>\n",
       "  <tbody>\n",
       "    <tr>\n",
       "      <th>0</th>\n",
       "      <td>100010</td>\n",
       "      <td>10001001</td>\n",
       "      <td>Auto</td>\n",
       "      <td>37.0</td>\n",
       "      <td>I10</td>\n",
       "      <td>2012.0</td>\n",
       "      <td>1</td>\n",
       "      <td>99999.0</td>\n",
       "      <td>1.0</td>\n",
       "      <td>2</td>\n",
       "      <td>1.0</td>\n",
       "    </tr>\n",
       "    <tr>\n",
       "      <th>1</th>\n",
       "      <td>100020</td>\n",
       "      <td>10002001</td>\n",
       "      <td>Auto</td>\n",
       "      <td>72.0</td>\n",
       "      <td>NO SABE</td>\n",
       "      <td>1997.0</td>\n",
       "      <td>4</td>\n",
       "      <td>1600.0</td>\n",
       "      <td>1.0</td>\n",
       "      <td>2</td>\n",
       "      <td>1.0</td>\n",
       "    </tr>\n",
       "    <tr>\n",
       "      <th>2</th>\n",
       "      <td>100070</td>\n",
       "      <td>10007001</td>\n",
       "      <td>Camioneta o vehículo todo terreno</td>\n",
       "      <td>65.0</td>\n",
       "      <td>PARTNER</td>\n",
       "      <td>2007.0</td>\n",
       "      <td>2</td>\n",
       "      <td>1900.0</td>\n",
       "      <td>2.0</td>\n",
       "      <td>2</td>\n",
       "      <td>1.0</td>\n",
       "    </tr>\n",
       "    <tr>\n",
       "      <th>3</th>\n",
       "      <td>100170</td>\n",
       "      <td>10017001</td>\n",
       "      <td>Auto</td>\n",
       "      <td>17.0</td>\n",
       "      <td>CAVALIER</td>\n",
       "      <td>1998.0</td>\n",
       "      <td>4</td>\n",
       "      <td>2200.0</td>\n",
       "      <td>1.0</td>\n",
       "      <td>2</td>\n",
       "      <td>1.0</td>\n",
       "    </tr>\n",
       "    <tr>\n",
       "      <th>4</th>\n",
       "      <td>100170</td>\n",
       "      <td>10017003</td>\n",
       "      <td>Camioneta o vehículo todo terreno</td>\n",
       "      <td>17.0</td>\n",
       "      <td>LUV</td>\n",
       "      <td>1998.0</td>\n",
       "      <td>4</td>\n",
       "      <td>2200.0</td>\n",
       "      <td>1.0</td>\n",
       "      <td>2</td>\n",
       "      <td>1.0</td>\n",
       "    </tr>\n",
       "    <tr>\n",
       "      <th>...</th>\n",
       "      <td>...</td>\n",
       "      <td>...</td>\n",
       "      <td>...</td>\n",
       "      <td>...</td>\n",
       "      <td>...</td>\n",
       "      <td>...</td>\n",
       "      <td>...</td>\n",
       "      <td>...</td>\n",
       "      <td>...</td>\n",
       "      <td>...</td>\n",
       "      <td>...</td>\n",
       "    </tr>\n",
       "    <tr>\n",
       "      <th>8882</th>\n",
       "      <td>399891</td>\n",
       "      <td>39989101</td>\n",
       "      <td>Auto</td>\n",
       "      <td>61.0</td>\n",
       "      <td>SENTRA 2</td>\n",
       "      <td>2000.0</td>\n",
       "      <td>4</td>\n",
       "      <td>1600.0</td>\n",
       "      <td>1.0</td>\n",
       "      <td>2</td>\n",
       "      <td>1.0</td>\n",
       "    </tr>\n",
       "    <tr>\n",
       "      <th>8883</th>\n",
       "      <td>399911</td>\n",
       "      <td>39991101</td>\n",
       "      <td>Auto</td>\n",
       "      <td>72.0</td>\n",
       "      <td>CLIO</td>\n",
       "      <td>2003.0</td>\n",
       "      <td>3</td>\n",
       "      <td>1300.0</td>\n",
       "      <td>1.0</td>\n",
       "      <td>2</td>\n",
       "      <td>1.0</td>\n",
       "    </tr>\n",
       "    <tr>\n",
       "      <th>8884</th>\n",
       "      <td>399921</td>\n",
       "      <td>39992101</td>\n",
       "      <td>Auto</td>\n",
       "      <td>0.0</td>\n",
       "      <td>323</td>\n",
       "      <td>2002.0</td>\n",
       "      <td>3</td>\n",
       "      <td>1600.0</td>\n",
       "      <td>1.0</td>\n",
       "      <td>2</td>\n",
       "      <td>1.0</td>\n",
       "    </tr>\n",
       "    <tr>\n",
       "      <th>8885</th>\n",
       "      <td>399931</td>\n",
       "      <td>39993101</td>\n",
       "      <td>Auto</td>\n",
       "      <td>61.0</td>\n",
       "      <td>CENTRA</td>\n",
       "      <td>2001.0</td>\n",
       "      <td>4</td>\n",
       "      <td>1600.0</td>\n",
       "      <td>1.0</td>\n",
       "      <td>2</td>\n",
       "      <td>1.0</td>\n",
       "    </tr>\n",
       "    <tr>\n",
       "      <th>8886</th>\n",
       "      <td>700400</td>\n",
       "      <td>70040001</td>\n",
       "      <td>Camioneta o vehículo todo terreno</td>\n",
       "      <td>65.0</td>\n",
       "      <td>PARTNER</td>\n",
       "      <td>2003.0</td>\n",
       "      <td>3</td>\n",
       "      <td>1900.0</td>\n",
       "      <td>2.0</td>\n",
       "      <td>2</td>\n",
       "      <td>1.0</td>\n",
       "    </tr>\n",
       "  </tbody>\n",
       "</table>\n",
       "<p>8887 rows × 11 columns</p>\n",
       "</div>"
      ],
      "text/plain": [
       "       Hogar  Vehiculo                            TipoVeh  MarcaVeh ModeloVeh  \\\n",
       "0     100010  10001001                               Auto      37.0       I10   \n",
       "1     100020  10002001                               Auto      72.0   NO SABE   \n",
       "2     100070  10007001  Camioneta o vehículo todo terreno      65.0   PARTNER   \n",
       "3     100170  10017001                               Auto      17.0  CAVALIER   \n",
       "4     100170  10017003  Camioneta o vehículo todo terreno      17.0       LUV   \n",
       "...      ...       ...                                ...       ...       ...   \n",
       "8882  399891  39989101                               Auto      61.0  SENTRA 2   \n",
       "8883  399911  39991101                               Auto      72.0      CLIO   \n",
       "8884  399921  39992101                               Auto       0.0       323   \n",
       "8885  399931  39993101                               Auto      61.0    CENTRA   \n",
       "8886  700400  70040001  Camioneta o vehículo todo terreno      65.0   PARTNER   \n",
       "\n",
       "      AnoVeh  EdadVehiculo  CilindradaVeh  Combustible  SelloVerde  Propiedad  \n",
       "0     2012.0             1        99999.0          1.0           2        1.0  \n",
       "1     1997.0             4         1600.0          1.0           2        1.0  \n",
       "2     2007.0             2         1900.0          2.0           2        1.0  \n",
       "3     1998.0             4         2200.0          1.0           2        1.0  \n",
       "4     1998.0             4         2200.0          1.0           2        1.0  \n",
       "...      ...           ...            ...          ...         ...        ...  \n",
       "8882  2000.0             4         1600.0          1.0           2        1.0  \n",
       "8883  2003.0             3         1300.0          1.0           2        1.0  \n",
       "8884  2002.0             3         1600.0          1.0           2        1.0  \n",
       "8885  2001.0             4         1600.0          1.0           2        1.0  \n",
       "8886  2003.0             3         1900.0          2.0           2        1.0  \n",
       "\n",
       "[8887 rows x 11 columns]"
      ]
     },
     "execution_count": 32,
     "metadata": {},
     "output_type": "execute_result"
    }
   ],
   "source": [
    "veh = eod.read_vehicles(EOD_PATH)\n",
    "veh\n",
    "#personas"
   ]
  },
  {
   "cell_type": "code",
   "execution_count": 81,
   "metadata": {},
   "outputs": [
    {
     "data": {
      "text/html": [
       "        <script type=\"text/javascript\">\n",
       "        window.PlotlyConfig = {MathJaxConfig: 'local'};\n",
       "        if (window.MathJax) {MathJax.Hub.Config({SVG: {font: \"STIX-Web\"}});}\n",
       "        if (typeof require !== 'undefined') {\n",
       "        require.undef(\"plotly\");\n",
       "        requirejs.config({\n",
       "            paths: {\n",
       "                'plotly': ['https://cdn.plot.ly/plotly-2.4.2.min']\n",
       "            }\n",
       "        });\n",
       "        require(['plotly'], function(Plotly) {\n",
       "            window._Plotly = Plotly;\n",
       "        });\n",
       "        }\n",
       "        </script>\n",
       "        "
      ]
     },
     "metadata": {},
     "output_type": "display_data"
    }
   ],
   "source": [
    "#Implementacion plotly\n",
    "import plotly as py\n",
    "import plotly.graph_objs as go\n",
    "import ipywidgets as widgets\n",
    "import numpy as np\n",
    "from scipy import special\n",
    "py.offline.init_notebook_mode(connected=True)\n"
   ]
  },
  {
   "cell_type": "code",
   "execution_count": 82,
   "metadata": {},
   "outputs": [
    {
     "data": {
      "application/vnd.plotly.v1+json": {
       "config": {
        "plotlyServerURL": "https://plot.ly"
       },
       "data": [
        {
         "branchvalues": "total",
         "domain": {
          "x": [
           0,
           1
          ],
          "y": [
           0,
           1
          ]
         },
         "hovertemplate": "labels=%{label}<br>IngresoHogar=%{value}<br>parent=%{parent}<br>id=%{id}<extra></extra>",
         "ids": [
          "Extensión Sur-Poniente/BUIN",
          "Sur/CALERA DE TANGO",
          "Poniente/CERRILLOS",
          "Poniente/CERRO NAVIA",
          "Norte/COLINA",
          "Norte/CONCHALI",
          "Sur/EL BOSQUE",
          "Extensión Sur-Poniente/EL MONTE",
          "Poniente/ESTACION CENTRAL",
          "Norte/HUECHURABA",
          "Norte/INDEPENDENCIA",
          "Extensión Sur-Poniente/ISLA DE MAIPO",
          "Sur/LA CISTERNA",
          "Sur-Oriente/LA FLORIDA",
          "Sur/LA GRANJA",
          "Sur/LA PINTANA",
          "Oriente/LA REINA",
          "Norte/LAMPA",
          "Oriente/LAS CONDES",
          "Oriente/LO BARNECHEA",
          "Sur/LO ESPEJO",
          "Poniente/LO PRADO",
          "Sur-Oriente/MACUL",
          "Poniente/MAIPU",
          "Extensión Sur-Poniente/MELIPILLA",
          "Extensión Sur-Poniente/PADRE HURTADO",
          "Poniente/PEDRO AGUIRRE CERDA",
          "Extensión Sur-Poniente/PEÑAFLOR",
          "Sur-Oriente/PEÑALOLEN",
          "Sur-Oriente/PIRQUE",
          "Oriente/PROVIDENCIA",
          "Poniente/PUDAHUEL",
          "Sur-Oriente/PUENTE ALTO",
          "Norte/QUILICURA",
          "Poniente/QUINTA NORMAL",
          "Norte/RECOLETA",
          "Norte/RENCA",
          "Sur/SAN BERNARDO",
          "Sur/SAN JOAQUIN",
          "Sur/SAN MIGUEL",
          "Sur/SAN RAMON",
          "Centro/SANTIAGO",
          "Extensión Sur-Poniente/TALAGANTE",
          "Oriente/VITACURA",
          "Oriente/ÑUÑOA",
          "Centro",
          "Extensión Sur-Poniente",
          "Norte",
          "Oriente",
          "Poniente",
          "Sur",
          "Sur-Oriente"
         ],
         "labels": [
          "BUIN",
          "CALERA DE TANGO",
          "CERRILLOS",
          "CERRO NAVIA",
          "COLINA",
          "CONCHALI",
          "EL BOSQUE",
          "EL MONTE",
          "ESTACION CENTRAL",
          "HUECHURABA",
          "INDEPENDENCIA",
          "ISLA DE MAIPO",
          "LA CISTERNA",
          "LA FLORIDA",
          "LA GRANJA",
          "LA PINTANA",
          "LA REINA",
          "LAMPA",
          "LAS CONDES",
          "LO BARNECHEA",
          "LO ESPEJO",
          "LO PRADO",
          "MACUL",
          "MAIPU",
          "MELIPILLA",
          "PADRE HURTADO",
          "PEDRO AGUIRRE CERDA",
          "PEÑAFLOR",
          "PEÑALOLEN",
          "PIRQUE",
          "PROVIDENCIA",
          "PUDAHUEL",
          "PUENTE ALTO",
          "QUILICURA",
          "QUINTA NORMAL",
          "RECOLETA",
          "RENCA",
          "SAN BERNARDO",
          "SAN JOAQUIN",
          "SAN MIGUEL",
          "SAN RAMON",
          "SANTIAGO",
          "TALAGANTE",
          "VITACURA",
          "ÑUÑOA",
          "Centro",
          "Extensión Sur-Poniente",
          "Norte",
          "Oriente",
          "Poniente",
          "Sur",
          "Sur-Oriente"
         ],
         "name": "",
         "parents": [
          "Extensión Sur-Poniente",
          "Sur",
          "Poniente",
          "Poniente",
          "Norte",
          "Norte",
          "Sur",
          "Extensión Sur-Poniente",
          "Poniente",
          "Norte",
          "Norte",
          "Extensión Sur-Poniente",
          "Sur",
          "Sur-Oriente",
          "Sur",
          "Sur",
          "Oriente",
          "Norte",
          "Oriente",
          "Oriente",
          "Sur",
          "Poniente",
          "Sur-Oriente",
          "Poniente",
          "Extensión Sur-Poniente",
          "Extensión Sur-Poniente",
          "Poniente",
          "Extensión Sur-Poniente",
          "Sur-Oriente",
          "Sur-Oriente",
          "Oriente",
          "Poniente",
          "Sur-Oriente",
          "Norte",
          "Poniente",
          "Norte",
          "Norte",
          "Sur",
          "Sur",
          "Sur",
          "Sur",
          "Centro",
          "Extensión Sur-Poniente",
          "Oriente",
          "Oriente",
          "",
          "",
          "",
          "",
          "",
          "",
          ""
         ],
         "type": "treemap",
         "values": [
          91220950,
          86142722,
          109378328,
          123245739,
          156567944,
          190455392,
          202118431,
          74435416,
          148883649,
          173887215,
          120871287,
          72134162,
          131899059,
          706406227,
          160594390,
          245924906,
          373229371,
          126746955,
          1176875395,
          400857910,
          94751791,
          96923771,
          208450292,
          917633399,
          105926032,
          79014082,
          145405812,
          122305702,
          346063033,
          121732848,
          606198644,
          325782065,
          1002805070,
          368404785,
          130878014,
          212850232,
          167685836,
          384353028,
          131595288,
          206301772,
          108744480,
          667333054,
          77359346,
          359577857,
          710689537,
          667333054,
          622395690,
          1517469646,
          3627428714,
          1998130777,
          1752425867,
          2385457470
         ]
        }
       ],
       "layout": {
        "legend": {
         "tracegroupgap": 0
        },
        "margin": {
         "b": 25,
         "l": 25,
         "r": 25,
         "t": 50
        },
        "template": {
         "data": {
          "bar": [
           {
            "error_x": {
             "color": "#2a3f5f"
            },
            "error_y": {
             "color": "#2a3f5f"
            },
            "marker": {
             "line": {
              "color": "#E5ECF6",
              "width": 0.5
             },
             "pattern": {
              "fillmode": "overlay",
              "size": 10,
              "solidity": 0.2
             }
            },
            "type": "bar"
           }
          ],
          "barpolar": [
           {
            "marker": {
             "line": {
              "color": "#E5ECF6",
              "width": 0.5
             },
             "pattern": {
              "fillmode": "overlay",
              "size": 10,
              "solidity": 0.2
             }
            },
            "type": "barpolar"
           }
          ],
          "carpet": [
           {
            "aaxis": {
             "endlinecolor": "#2a3f5f",
             "gridcolor": "white",
             "linecolor": "white",
             "minorgridcolor": "white",
             "startlinecolor": "#2a3f5f"
            },
            "baxis": {
             "endlinecolor": "#2a3f5f",
             "gridcolor": "white",
             "linecolor": "white",
             "minorgridcolor": "white",
             "startlinecolor": "#2a3f5f"
            },
            "type": "carpet"
           }
          ],
          "choropleth": [
           {
            "colorbar": {
             "outlinewidth": 0,
             "ticks": ""
            },
            "type": "choropleth"
           }
          ],
          "contour": [
           {
            "colorbar": {
             "outlinewidth": 0,
             "ticks": ""
            },
            "colorscale": [
             [
              0,
              "#0d0887"
             ],
             [
              0.1111111111111111,
              "#46039f"
             ],
             [
              0.2222222222222222,
              "#7201a8"
             ],
             [
              0.3333333333333333,
              "#9c179e"
             ],
             [
              0.4444444444444444,
              "#bd3786"
             ],
             [
              0.5555555555555556,
              "#d8576b"
             ],
             [
              0.6666666666666666,
              "#ed7953"
             ],
             [
              0.7777777777777778,
              "#fb9f3a"
             ],
             [
              0.8888888888888888,
              "#fdca26"
             ],
             [
              1,
              "#f0f921"
             ]
            ],
            "type": "contour"
           }
          ],
          "contourcarpet": [
           {
            "colorbar": {
             "outlinewidth": 0,
             "ticks": ""
            },
            "type": "contourcarpet"
           }
          ],
          "heatmap": [
           {
            "colorbar": {
             "outlinewidth": 0,
             "ticks": ""
            },
            "colorscale": [
             [
              0,
              "#0d0887"
             ],
             [
              0.1111111111111111,
              "#46039f"
             ],
             [
              0.2222222222222222,
              "#7201a8"
             ],
             [
              0.3333333333333333,
              "#9c179e"
             ],
             [
              0.4444444444444444,
              "#bd3786"
             ],
             [
              0.5555555555555556,
              "#d8576b"
             ],
             [
              0.6666666666666666,
              "#ed7953"
             ],
             [
              0.7777777777777778,
              "#fb9f3a"
             ],
             [
              0.8888888888888888,
              "#fdca26"
             ],
             [
              1,
              "#f0f921"
             ]
            ],
            "type": "heatmap"
           }
          ],
          "heatmapgl": [
           {
            "colorbar": {
             "outlinewidth": 0,
             "ticks": ""
            },
            "colorscale": [
             [
              0,
              "#0d0887"
             ],
             [
              0.1111111111111111,
              "#46039f"
             ],
             [
              0.2222222222222222,
              "#7201a8"
             ],
             [
              0.3333333333333333,
              "#9c179e"
             ],
             [
              0.4444444444444444,
              "#bd3786"
             ],
             [
              0.5555555555555556,
              "#d8576b"
             ],
             [
              0.6666666666666666,
              "#ed7953"
             ],
             [
              0.7777777777777778,
              "#fb9f3a"
             ],
             [
              0.8888888888888888,
              "#fdca26"
             ],
             [
              1,
              "#f0f921"
             ]
            ],
            "type": "heatmapgl"
           }
          ],
          "histogram": [
           {
            "marker": {
             "pattern": {
              "fillmode": "overlay",
              "size": 10,
              "solidity": 0.2
             }
            },
            "type": "histogram"
           }
          ],
          "histogram2d": [
           {
            "colorbar": {
             "outlinewidth": 0,
             "ticks": ""
            },
            "colorscale": [
             [
              0,
              "#0d0887"
             ],
             [
              0.1111111111111111,
              "#46039f"
             ],
             [
              0.2222222222222222,
              "#7201a8"
             ],
             [
              0.3333333333333333,
              "#9c179e"
             ],
             [
              0.4444444444444444,
              "#bd3786"
             ],
             [
              0.5555555555555556,
              "#d8576b"
             ],
             [
              0.6666666666666666,
              "#ed7953"
             ],
             [
              0.7777777777777778,
              "#fb9f3a"
             ],
             [
              0.8888888888888888,
              "#fdca26"
             ],
             [
              1,
              "#f0f921"
             ]
            ],
            "type": "histogram2d"
           }
          ],
          "histogram2dcontour": [
           {
            "colorbar": {
             "outlinewidth": 0,
             "ticks": ""
            },
            "colorscale": [
             [
              0,
              "#0d0887"
             ],
             [
              0.1111111111111111,
              "#46039f"
             ],
             [
              0.2222222222222222,
              "#7201a8"
             ],
             [
              0.3333333333333333,
              "#9c179e"
             ],
             [
              0.4444444444444444,
              "#bd3786"
             ],
             [
              0.5555555555555556,
              "#d8576b"
             ],
             [
              0.6666666666666666,
              "#ed7953"
             ],
             [
              0.7777777777777778,
              "#fb9f3a"
             ],
             [
              0.8888888888888888,
              "#fdca26"
             ],
             [
              1,
              "#f0f921"
             ]
            ],
            "type": "histogram2dcontour"
           }
          ],
          "mesh3d": [
           {
            "colorbar": {
             "outlinewidth": 0,
             "ticks": ""
            },
            "type": "mesh3d"
           }
          ],
          "parcoords": [
           {
            "line": {
             "colorbar": {
              "outlinewidth": 0,
              "ticks": ""
             }
            },
            "type": "parcoords"
           }
          ],
          "pie": [
           {
            "automargin": true,
            "type": "pie"
           }
          ],
          "scatter": [
           {
            "marker": {
             "colorbar": {
              "outlinewidth": 0,
              "ticks": ""
             }
            },
            "type": "scatter"
           }
          ],
          "scatter3d": [
           {
            "line": {
             "colorbar": {
              "outlinewidth": 0,
              "ticks": ""
             }
            },
            "marker": {
             "colorbar": {
              "outlinewidth": 0,
              "ticks": ""
             }
            },
            "type": "scatter3d"
           }
          ],
          "scattercarpet": [
           {
            "marker": {
             "colorbar": {
              "outlinewidth": 0,
              "ticks": ""
             }
            },
            "type": "scattercarpet"
           }
          ],
          "scattergeo": [
           {
            "marker": {
             "colorbar": {
              "outlinewidth": 0,
              "ticks": ""
             }
            },
            "type": "scattergeo"
           }
          ],
          "scattergl": [
           {
            "marker": {
             "colorbar": {
              "outlinewidth": 0,
              "ticks": ""
             }
            },
            "type": "scattergl"
           }
          ],
          "scattermapbox": [
           {
            "marker": {
             "colorbar": {
              "outlinewidth": 0,
              "ticks": ""
             }
            },
            "type": "scattermapbox"
           }
          ],
          "scatterpolar": [
           {
            "marker": {
             "colorbar": {
              "outlinewidth": 0,
              "ticks": ""
             }
            },
            "type": "scatterpolar"
           }
          ],
          "scatterpolargl": [
           {
            "marker": {
             "colorbar": {
              "outlinewidth": 0,
              "ticks": ""
             }
            },
            "type": "scatterpolargl"
           }
          ],
          "scatterternary": [
           {
            "marker": {
             "colorbar": {
              "outlinewidth": 0,
              "ticks": ""
             }
            },
            "type": "scatterternary"
           }
          ],
          "surface": [
           {
            "colorbar": {
             "outlinewidth": 0,
             "ticks": ""
            },
            "colorscale": [
             [
              0,
              "#0d0887"
             ],
             [
              0.1111111111111111,
              "#46039f"
             ],
             [
              0.2222222222222222,
              "#7201a8"
             ],
             [
              0.3333333333333333,
              "#9c179e"
             ],
             [
              0.4444444444444444,
              "#bd3786"
             ],
             [
              0.5555555555555556,
              "#d8576b"
             ],
             [
              0.6666666666666666,
              "#ed7953"
             ],
             [
              0.7777777777777778,
              "#fb9f3a"
             ],
             [
              0.8888888888888888,
              "#fdca26"
             ],
             [
              1,
              "#f0f921"
             ]
            ],
            "type": "surface"
           }
          ],
          "table": [
           {
            "cells": {
             "fill": {
              "color": "#EBF0F8"
             },
             "line": {
              "color": "white"
             }
            },
            "header": {
             "fill": {
              "color": "#C8D4E3"
             },
             "line": {
              "color": "white"
             }
            },
            "type": "table"
           }
          ]
         },
         "layout": {
          "annotationdefaults": {
           "arrowcolor": "#2a3f5f",
           "arrowhead": 0,
           "arrowwidth": 1
          },
          "autotypenumbers": "strict",
          "coloraxis": {
           "colorbar": {
            "outlinewidth": 0,
            "ticks": ""
           }
          },
          "colorscale": {
           "diverging": [
            [
             0,
             "#8e0152"
            ],
            [
             0.1,
             "#c51b7d"
            ],
            [
             0.2,
             "#de77ae"
            ],
            [
             0.3,
             "#f1b6da"
            ],
            [
             0.4,
             "#fde0ef"
            ],
            [
             0.5,
             "#f7f7f7"
            ],
            [
             0.6,
             "#e6f5d0"
            ],
            [
             0.7,
             "#b8e186"
            ],
            [
             0.8,
             "#7fbc41"
            ],
            [
             0.9,
             "#4d9221"
            ],
            [
             1,
             "#276419"
            ]
           ],
           "sequential": [
            [
             0,
             "#0d0887"
            ],
            [
             0.1111111111111111,
             "#46039f"
            ],
            [
             0.2222222222222222,
             "#7201a8"
            ],
            [
             0.3333333333333333,
             "#9c179e"
            ],
            [
             0.4444444444444444,
             "#bd3786"
            ],
            [
             0.5555555555555556,
             "#d8576b"
            ],
            [
             0.6666666666666666,
             "#ed7953"
            ],
            [
             0.7777777777777778,
             "#fb9f3a"
            ],
            [
             0.8888888888888888,
             "#fdca26"
            ],
            [
             1,
             "#f0f921"
            ]
           ],
           "sequentialminus": [
            [
             0,
             "#0d0887"
            ],
            [
             0.1111111111111111,
             "#46039f"
            ],
            [
             0.2222222222222222,
             "#7201a8"
            ],
            [
             0.3333333333333333,
             "#9c179e"
            ],
            [
             0.4444444444444444,
             "#bd3786"
            ],
            [
             0.5555555555555556,
             "#d8576b"
            ],
            [
             0.6666666666666666,
             "#ed7953"
            ],
            [
             0.7777777777777778,
             "#fb9f3a"
            ],
            [
             0.8888888888888888,
             "#fdca26"
            ],
            [
             1,
             "#f0f921"
            ]
           ]
          },
          "colorway": [
           "#636efa",
           "#EF553B",
           "#00cc96",
           "#ab63fa",
           "#FFA15A",
           "#19d3f3",
           "#FF6692",
           "#B6E880",
           "#FF97FF",
           "#FECB52"
          ],
          "font": {
           "color": "#2a3f5f"
          },
          "geo": {
           "bgcolor": "white",
           "lakecolor": "white",
           "landcolor": "#E5ECF6",
           "showlakes": true,
           "showland": true,
           "subunitcolor": "white"
          },
          "hoverlabel": {
           "align": "left"
          },
          "hovermode": "closest",
          "mapbox": {
           "style": "light"
          },
          "paper_bgcolor": "white",
          "plot_bgcolor": "#E5ECF6",
          "polar": {
           "angularaxis": {
            "gridcolor": "white",
            "linecolor": "white",
            "ticks": ""
           },
           "bgcolor": "#E5ECF6",
           "radialaxis": {
            "gridcolor": "white",
            "linecolor": "white",
            "ticks": ""
           }
          },
          "scene": {
           "xaxis": {
            "backgroundcolor": "#E5ECF6",
            "gridcolor": "white",
            "gridwidth": 2,
            "linecolor": "white",
            "showbackground": true,
            "ticks": "",
            "zerolinecolor": "white"
           },
           "yaxis": {
            "backgroundcolor": "#E5ECF6",
            "gridcolor": "white",
            "gridwidth": 2,
            "linecolor": "white",
            "showbackground": true,
            "ticks": "",
            "zerolinecolor": "white"
           },
           "zaxis": {
            "backgroundcolor": "#E5ECF6",
            "gridcolor": "white",
            "gridwidth": 2,
            "linecolor": "white",
            "showbackground": true,
            "ticks": "",
            "zerolinecolor": "white"
           }
          },
          "shapedefaults": {
           "line": {
            "color": "#2a3f5f"
           }
          },
          "ternary": {
           "aaxis": {
            "gridcolor": "white",
            "linecolor": "white",
            "ticks": ""
           },
           "baxis": {
            "gridcolor": "white",
            "linecolor": "white",
            "ticks": ""
           },
           "bgcolor": "#E5ECF6",
           "caxis": {
            "gridcolor": "white",
            "linecolor": "white",
            "ticks": ""
           }
          },
          "title": {
           "x": 0.05
          },
          "xaxis": {
           "automargin": true,
           "gridcolor": "white",
           "linecolor": "white",
           "ticks": "",
           "title": {
            "standoff": 15
           },
           "zerolinecolor": "white",
           "zerolinewidth": 2
          },
          "yaxis": {
           "automargin": true,
           "gridcolor": "white",
           "linecolor": "white",
           "ticks": "",
           "title": {
            "standoff": 15
           },
           "zerolinecolor": "white",
           "zerolinewidth": 2
          }
         }
        }
       }
      },
      "text/html": [
       "<div>                            <div id=\"c32ec460-af5e-4ca9-b05c-97f7a865d6b2\" class=\"plotly-graph-div\" style=\"height:525px; width:100%;\"></div>            <script type=\"text/javascript\">                require([\"plotly\"], function(Plotly) {                    window.PLOTLYENV=window.PLOTLYENV || {};                                    if (document.getElementById(\"c32ec460-af5e-4ca9-b05c-97f7a865d6b2\")) {                    Plotly.newPlot(                        \"c32ec460-af5e-4ca9-b05c-97f7a865d6b2\",                        [{\"branchvalues\":\"total\",\"domain\":{\"x\":[0.0,1.0],\"y\":[0.0,1.0]},\"hovertemplate\":\"labels=%{label}<br>IngresoHogar=%{value}<br>parent=%{parent}<br>id=%{id}<extra></extra>\",\"ids\":[\"Extensi\\u00f3n Sur-Poniente/BUIN\",\"Sur/CALERA DE TANGO\",\"Poniente/CERRILLOS\",\"Poniente/CERRO NAVIA\",\"Norte/COLINA\",\"Norte/CONCHALI\",\"Sur/EL BOSQUE\",\"Extensi\\u00f3n Sur-Poniente/EL MONTE\",\"Poniente/ESTACION CENTRAL\",\"Norte/HUECHURABA\",\"Norte/INDEPENDENCIA\",\"Extensi\\u00f3n Sur-Poniente/ISLA DE MAIPO\",\"Sur/LA CISTERNA\",\"Sur-Oriente/LA FLORIDA\",\"Sur/LA GRANJA\",\"Sur/LA PINTANA\",\"Oriente/LA REINA\",\"Norte/LAMPA\",\"Oriente/LAS CONDES\",\"Oriente/LO BARNECHEA\",\"Sur/LO ESPEJO\",\"Poniente/LO PRADO\",\"Sur-Oriente/MACUL\",\"Poniente/MAIPU\",\"Extensi\\u00f3n Sur-Poniente/MELIPILLA\",\"Extensi\\u00f3n Sur-Poniente/PADRE HURTADO\",\"Poniente/PEDRO AGUIRRE CERDA\",\"Extensi\\u00f3n Sur-Poniente/PE\\u00d1AFLOR\",\"Sur-Oriente/PE\\u00d1ALOLEN\",\"Sur-Oriente/PIRQUE\",\"Oriente/PROVIDENCIA\",\"Poniente/PUDAHUEL\",\"Sur-Oriente/PUENTE ALTO\",\"Norte/QUILICURA\",\"Poniente/QUINTA NORMAL\",\"Norte/RECOLETA\",\"Norte/RENCA\",\"Sur/SAN BERNARDO\",\"Sur/SAN JOAQUIN\",\"Sur/SAN MIGUEL\",\"Sur/SAN RAMON\",\"Centro/SANTIAGO\",\"Extensi\\u00f3n Sur-Poniente/TALAGANTE\",\"Oriente/VITACURA\",\"Oriente/\\u00d1U\\u00d1OA\",\"Centro\",\"Extensi\\u00f3n Sur-Poniente\",\"Norte\",\"Oriente\",\"Poniente\",\"Sur\",\"Sur-Oriente\"],\"labels\":[\"BUIN\",\"CALERA DE TANGO\",\"CERRILLOS\",\"CERRO NAVIA\",\"COLINA\",\"CONCHALI\",\"EL BOSQUE\",\"EL MONTE\",\"ESTACION CENTRAL\",\"HUECHURABA\",\"INDEPENDENCIA\",\"ISLA DE MAIPO\",\"LA CISTERNA\",\"LA FLORIDA\",\"LA GRANJA\",\"LA PINTANA\",\"LA REINA\",\"LAMPA\",\"LAS CONDES\",\"LO BARNECHEA\",\"LO ESPEJO\",\"LO PRADO\",\"MACUL\",\"MAIPU\",\"MELIPILLA\",\"PADRE HURTADO\",\"PEDRO AGUIRRE CERDA\",\"PE\\u00d1AFLOR\",\"PE\\u00d1ALOLEN\",\"PIRQUE\",\"PROVIDENCIA\",\"PUDAHUEL\",\"PUENTE ALTO\",\"QUILICURA\",\"QUINTA NORMAL\",\"RECOLETA\",\"RENCA\",\"SAN BERNARDO\",\"SAN JOAQUIN\",\"SAN MIGUEL\",\"SAN RAMON\",\"SANTIAGO\",\"TALAGANTE\",\"VITACURA\",\"\\u00d1U\\u00d1OA\",\"Centro\",\"Extensi\\u00f3n Sur-Poniente\",\"Norte\",\"Oriente\",\"Poniente\",\"Sur\",\"Sur-Oriente\"],\"name\":\"\",\"parents\":[\"Extensi\\u00f3n Sur-Poniente\",\"Sur\",\"Poniente\",\"Poniente\",\"Norte\",\"Norte\",\"Sur\",\"Extensi\\u00f3n Sur-Poniente\",\"Poniente\",\"Norte\",\"Norte\",\"Extensi\\u00f3n Sur-Poniente\",\"Sur\",\"Sur-Oriente\",\"Sur\",\"Sur\",\"Oriente\",\"Norte\",\"Oriente\",\"Oriente\",\"Sur\",\"Poniente\",\"Sur-Oriente\",\"Poniente\",\"Extensi\\u00f3n Sur-Poniente\",\"Extensi\\u00f3n Sur-Poniente\",\"Poniente\",\"Extensi\\u00f3n Sur-Poniente\",\"Sur-Oriente\",\"Sur-Oriente\",\"Oriente\",\"Poniente\",\"Sur-Oriente\",\"Norte\",\"Poniente\",\"Norte\",\"Norte\",\"Sur\",\"Sur\",\"Sur\",\"Sur\",\"Centro\",\"Extensi\\u00f3n Sur-Poniente\",\"Oriente\",\"Oriente\",\"\",\"\",\"\",\"\",\"\",\"\",\"\"],\"type\":\"treemap\",\"values\":[91220950,86142722,109378328,123245739,156567944,190455392,202118431,74435416,148883649,173887215,120871287,72134162,131899059,706406227,160594390,245924906,373229371,126746955,1176875395,400857910,94751791,96923771,208450292,917633399,105926032,79014082,145405812,122305702,346063033,121732848,606198644,325782065,1002805070,368404785,130878014,212850232,167685836,384353028,131595288,206301772,108744480,667333054,77359346,359577857,710689537,667333054,622395690,1517469646,3627428714,1998130777,1752425867,2385457470]}],                        {\"legend\":{\"tracegroupgap\":0},\"margin\":{\"b\":25,\"l\":25,\"r\":25,\"t\":50},\"template\":{\"data\":{\"bar\":[{\"error_x\":{\"color\":\"#2a3f5f\"},\"error_y\":{\"color\":\"#2a3f5f\"},\"marker\":{\"line\":{\"color\":\"#E5ECF6\",\"width\":0.5},\"pattern\":{\"fillmode\":\"overlay\",\"size\":10,\"solidity\":0.2}},\"type\":\"bar\"}],\"barpolar\":[{\"marker\":{\"line\":{\"color\":\"#E5ECF6\",\"width\":0.5},\"pattern\":{\"fillmode\":\"overlay\",\"size\":10,\"solidity\":0.2}},\"type\":\"barpolar\"}],\"carpet\":[{\"aaxis\":{\"endlinecolor\":\"#2a3f5f\",\"gridcolor\":\"white\",\"linecolor\":\"white\",\"minorgridcolor\":\"white\",\"startlinecolor\":\"#2a3f5f\"},\"baxis\":{\"endlinecolor\":\"#2a3f5f\",\"gridcolor\":\"white\",\"linecolor\":\"white\",\"minorgridcolor\":\"white\",\"startlinecolor\":\"#2a3f5f\"},\"type\":\"carpet\"}],\"choropleth\":[{\"colorbar\":{\"outlinewidth\":0,\"ticks\":\"\"},\"type\":\"choropleth\"}],\"contour\":[{\"colorbar\":{\"outlinewidth\":0,\"ticks\":\"\"},\"colorscale\":[[0.0,\"#0d0887\"],[0.1111111111111111,\"#46039f\"],[0.2222222222222222,\"#7201a8\"],[0.3333333333333333,\"#9c179e\"],[0.4444444444444444,\"#bd3786\"],[0.5555555555555556,\"#d8576b\"],[0.6666666666666666,\"#ed7953\"],[0.7777777777777778,\"#fb9f3a\"],[0.8888888888888888,\"#fdca26\"],[1.0,\"#f0f921\"]],\"type\":\"contour\"}],\"contourcarpet\":[{\"colorbar\":{\"outlinewidth\":0,\"ticks\":\"\"},\"type\":\"contourcarpet\"}],\"heatmap\":[{\"colorbar\":{\"outlinewidth\":0,\"ticks\":\"\"},\"colorscale\":[[0.0,\"#0d0887\"],[0.1111111111111111,\"#46039f\"],[0.2222222222222222,\"#7201a8\"],[0.3333333333333333,\"#9c179e\"],[0.4444444444444444,\"#bd3786\"],[0.5555555555555556,\"#d8576b\"],[0.6666666666666666,\"#ed7953\"],[0.7777777777777778,\"#fb9f3a\"],[0.8888888888888888,\"#fdca26\"],[1.0,\"#f0f921\"]],\"type\":\"heatmap\"}],\"heatmapgl\":[{\"colorbar\":{\"outlinewidth\":0,\"ticks\":\"\"},\"colorscale\":[[0.0,\"#0d0887\"],[0.1111111111111111,\"#46039f\"],[0.2222222222222222,\"#7201a8\"],[0.3333333333333333,\"#9c179e\"],[0.4444444444444444,\"#bd3786\"],[0.5555555555555556,\"#d8576b\"],[0.6666666666666666,\"#ed7953\"],[0.7777777777777778,\"#fb9f3a\"],[0.8888888888888888,\"#fdca26\"],[1.0,\"#f0f921\"]],\"type\":\"heatmapgl\"}],\"histogram\":[{\"marker\":{\"pattern\":{\"fillmode\":\"overlay\",\"size\":10,\"solidity\":0.2}},\"type\":\"histogram\"}],\"histogram2d\":[{\"colorbar\":{\"outlinewidth\":0,\"ticks\":\"\"},\"colorscale\":[[0.0,\"#0d0887\"],[0.1111111111111111,\"#46039f\"],[0.2222222222222222,\"#7201a8\"],[0.3333333333333333,\"#9c179e\"],[0.4444444444444444,\"#bd3786\"],[0.5555555555555556,\"#d8576b\"],[0.6666666666666666,\"#ed7953\"],[0.7777777777777778,\"#fb9f3a\"],[0.8888888888888888,\"#fdca26\"],[1.0,\"#f0f921\"]],\"type\":\"histogram2d\"}],\"histogram2dcontour\":[{\"colorbar\":{\"outlinewidth\":0,\"ticks\":\"\"},\"colorscale\":[[0.0,\"#0d0887\"],[0.1111111111111111,\"#46039f\"],[0.2222222222222222,\"#7201a8\"],[0.3333333333333333,\"#9c179e\"],[0.4444444444444444,\"#bd3786\"],[0.5555555555555556,\"#d8576b\"],[0.6666666666666666,\"#ed7953\"],[0.7777777777777778,\"#fb9f3a\"],[0.8888888888888888,\"#fdca26\"],[1.0,\"#f0f921\"]],\"type\":\"histogram2dcontour\"}],\"mesh3d\":[{\"colorbar\":{\"outlinewidth\":0,\"ticks\":\"\"},\"type\":\"mesh3d\"}],\"parcoords\":[{\"line\":{\"colorbar\":{\"outlinewidth\":0,\"ticks\":\"\"}},\"type\":\"parcoords\"}],\"pie\":[{\"automargin\":true,\"type\":\"pie\"}],\"scatter\":[{\"marker\":{\"colorbar\":{\"outlinewidth\":0,\"ticks\":\"\"}},\"type\":\"scatter\"}],\"scatter3d\":[{\"line\":{\"colorbar\":{\"outlinewidth\":0,\"ticks\":\"\"}},\"marker\":{\"colorbar\":{\"outlinewidth\":0,\"ticks\":\"\"}},\"type\":\"scatter3d\"}],\"scattercarpet\":[{\"marker\":{\"colorbar\":{\"outlinewidth\":0,\"ticks\":\"\"}},\"type\":\"scattercarpet\"}],\"scattergeo\":[{\"marker\":{\"colorbar\":{\"outlinewidth\":0,\"ticks\":\"\"}},\"type\":\"scattergeo\"}],\"scattergl\":[{\"marker\":{\"colorbar\":{\"outlinewidth\":0,\"ticks\":\"\"}},\"type\":\"scattergl\"}],\"scattermapbox\":[{\"marker\":{\"colorbar\":{\"outlinewidth\":0,\"ticks\":\"\"}},\"type\":\"scattermapbox\"}],\"scatterpolar\":[{\"marker\":{\"colorbar\":{\"outlinewidth\":0,\"ticks\":\"\"}},\"type\":\"scatterpolar\"}],\"scatterpolargl\":[{\"marker\":{\"colorbar\":{\"outlinewidth\":0,\"ticks\":\"\"}},\"type\":\"scatterpolargl\"}],\"scatterternary\":[{\"marker\":{\"colorbar\":{\"outlinewidth\":0,\"ticks\":\"\"}},\"type\":\"scatterternary\"}],\"surface\":[{\"colorbar\":{\"outlinewidth\":0,\"ticks\":\"\"},\"colorscale\":[[0.0,\"#0d0887\"],[0.1111111111111111,\"#46039f\"],[0.2222222222222222,\"#7201a8\"],[0.3333333333333333,\"#9c179e\"],[0.4444444444444444,\"#bd3786\"],[0.5555555555555556,\"#d8576b\"],[0.6666666666666666,\"#ed7953\"],[0.7777777777777778,\"#fb9f3a\"],[0.8888888888888888,\"#fdca26\"],[1.0,\"#f0f921\"]],\"type\":\"surface\"}],\"table\":[{\"cells\":{\"fill\":{\"color\":\"#EBF0F8\"},\"line\":{\"color\":\"white\"}},\"header\":{\"fill\":{\"color\":\"#C8D4E3\"},\"line\":{\"color\":\"white\"}},\"type\":\"table\"}]},\"layout\":{\"annotationdefaults\":{\"arrowcolor\":\"#2a3f5f\",\"arrowhead\":0,\"arrowwidth\":1},\"autotypenumbers\":\"strict\",\"coloraxis\":{\"colorbar\":{\"outlinewidth\":0,\"ticks\":\"\"}},\"colorscale\":{\"diverging\":[[0,\"#8e0152\"],[0.1,\"#c51b7d\"],[0.2,\"#de77ae\"],[0.3,\"#f1b6da\"],[0.4,\"#fde0ef\"],[0.5,\"#f7f7f7\"],[0.6,\"#e6f5d0\"],[0.7,\"#b8e186\"],[0.8,\"#7fbc41\"],[0.9,\"#4d9221\"],[1,\"#276419\"]],\"sequential\":[[0.0,\"#0d0887\"],[0.1111111111111111,\"#46039f\"],[0.2222222222222222,\"#7201a8\"],[0.3333333333333333,\"#9c179e\"],[0.4444444444444444,\"#bd3786\"],[0.5555555555555556,\"#d8576b\"],[0.6666666666666666,\"#ed7953\"],[0.7777777777777778,\"#fb9f3a\"],[0.8888888888888888,\"#fdca26\"],[1.0,\"#f0f921\"]],\"sequentialminus\":[[0.0,\"#0d0887\"],[0.1111111111111111,\"#46039f\"],[0.2222222222222222,\"#7201a8\"],[0.3333333333333333,\"#9c179e\"],[0.4444444444444444,\"#bd3786\"],[0.5555555555555556,\"#d8576b\"],[0.6666666666666666,\"#ed7953\"],[0.7777777777777778,\"#fb9f3a\"],[0.8888888888888888,\"#fdca26\"],[1.0,\"#f0f921\"]]},\"colorway\":[\"#636efa\",\"#EF553B\",\"#00cc96\",\"#ab63fa\",\"#FFA15A\",\"#19d3f3\",\"#FF6692\",\"#B6E880\",\"#FF97FF\",\"#FECB52\"],\"font\":{\"color\":\"#2a3f5f\"},\"geo\":{\"bgcolor\":\"white\",\"lakecolor\":\"white\",\"landcolor\":\"#E5ECF6\",\"showlakes\":true,\"showland\":true,\"subunitcolor\":\"white\"},\"hoverlabel\":{\"align\":\"left\"},\"hovermode\":\"closest\",\"mapbox\":{\"style\":\"light\"},\"paper_bgcolor\":\"white\",\"plot_bgcolor\":\"#E5ECF6\",\"polar\":{\"angularaxis\":{\"gridcolor\":\"white\",\"linecolor\":\"white\",\"ticks\":\"\"},\"bgcolor\":\"#E5ECF6\",\"radialaxis\":{\"gridcolor\":\"white\",\"linecolor\":\"white\",\"ticks\":\"\"}},\"scene\":{\"xaxis\":{\"backgroundcolor\":\"#E5ECF6\",\"gridcolor\":\"white\",\"gridwidth\":2,\"linecolor\":\"white\",\"showbackground\":true,\"ticks\":\"\",\"zerolinecolor\":\"white\"},\"yaxis\":{\"backgroundcolor\":\"#E5ECF6\",\"gridcolor\":\"white\",\"gridwidth\":2,\"linecolor\":\"white\",\"showbackground\":true,\"ticks\":\"\",\"zerolinecolor\":\"white\"},\"zaxis\":{\"backgroundcolor\":\"#E5ECF6\",\"gridcolor\":\"white\",\"gridwidth\":2,\"linecolor\":\"white\",\"showbackground\":true,\"ticks\":\"\",\"zerolinecolor\":\"white\"}},\"shapedefaults\":{\"line\":{\"color\":\"#2a3f5f\"}},\"ternary\":{\"aaxis\":{\"gridcolor\":\"white\",\"linecolor\":\"white\",\"ticks\":\"\"},\"baxis\":{\"gridcolor\":\"white\",\"linecolor\":\"white\",\"ticks\":\"\"},\"bgcolor\":\"#E5ECF6\",\"caxis\":{\"gridcolor\":\"white\",\"linecolor\":\"white\",\"ticks\":\"\"}},\"title\":{\"x\":0.05},\"xaxis\":{\"automargin\":true,\"gridcolor\":\"white\",\"linecolor\":\"white\",\"ticks\":\"\",\"title\":{\"standoff\":15},\"zerolinecolor\":\"white\",\"zerolinewidth\":2},\"yaxis\":{\"automargin\":true,\"gridcolor\":\"white\",\"linecolor\":\"white\",\"ticks\":\"\",\"title\":{\"standoff\":15},\"zerolinecolor\":\"white\",\"zerolinewidth\":2}}}},                        {\"responsive\": true}                    ).then(function(){\n",
       "                            \n",
       "var gd = document.getElementById('c32ec460-af5e-4ca9-b05c-97f7a865d6b2');\n",
       "var x = new MutationObserver(function (mutations, observer) {{\n",
       "        var display = window.getComputedStyle(gd).display;\n",
       "        if (!display || display === 'none') {{\n",
       "            console.log([gd, 'removed!']);\n",
       "            Plotly.purge(gd);\n",
       "            observer.disconnect();\n",
       "        }}\n",
       "}});\n",
       "\n",
       "// Listen for the removal of the full notebook cells\n",
       "var notebookContainer = gd.closest('#notebook-container');\n",
       "if (notebookContainer) {{\n",
       "    x.observe(notebookContainer, {childList: true});\n",
       "}}\n",
       "\n",
       "// Listen for the clearing of the current output cell\n",
       "var outputEl = gd.closest('.output');\n",
       "if (outputEl) {{\n",
       "    x.observe(outputEl, {childList: true});\n",
       "}}\n",
       "\n",
       "                        })                };                });            </script>        </div>"
      ]
     },
     "metadata": {},
     "output_type": "display_data"
    }
   ],
   "source": [
    "personas = eod.read_homes(EOD_PATH)\n",
    "\n",
    "import plotly.express as px\n",
    "import numpy as np\n",
    "fig = px.treemap(\n",
    "    personas, \n",
    "    path=[\"Sector\", 'Comuna'], \n",
    "    values='IngresoHogar'\n",
    ")\n",
    "fig.update_layout(margin = dict(t=50, l=25, r=25, b=25))\n",
    "fig.show()"
   ]
  }
 ],
 "metadata": {
  "interpreter": {
   "hash": "2a58f7fe50f10232969db0ae6c08b0eec2e859e23b91a32a410d08aba912bb2f"
  },
  "kernelspec": {
   "display_name": "Python 3.8.12 64-bit ('aves': conda)",
   "name": "python3"
  },
  "language_info": {
   "codemirror_mode": {
    "name": "ipython",
    "version": 3
   },
   "file_extension": ".py",
   "mimetype": "text/x-python",
   "name": "python",
   "nbconvert_exporter": "python",
   "pygments_lexer": "ipython3",
   "version": "3.8.12"
  }
 },
 "nbformat": 4,
 "nbformat_minor": 0
}
